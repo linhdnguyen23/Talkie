{
 "cells": [
  {
   "cell_type": "markdown",
   "metadata": {},
   "source": [
    "# Test 3b lightweight model"
   ]
  },
  {
   "cell_type": "code",
   "execution_count": 2,
   "metadata": {},
   "outputs": [
    {
     "name": "stdout",
     "output_type": "stream",
     "text": [
      "{'model': 'llama3.2:3b-instruct-fp16', 'created_at': '2024-11-09T21:44:00.20489955Z', 'message': {'role': 'assistant', 'content': '\"Bob\\'s Burgers\" is an American animated sitcom created by Loren Bouchard that premiered in 2011. The show revolves around the Belcher family, who run a hamburger restaurant called \"Bob\\'s Burgers\" in the fictional beach town of Ocean Bay, New Jersey.\\n\\nThe main character, Bob Belcher (voiced by H. Jon Benjamin), is the patriarch of the family and the owner of the restaurant. He is a well-meaning but slightly awkward burger enthusiast who often comes up with creative burger names to attract customers. His wife, Linda (voiced by John Roberts), is the voice of reason in the family and manages the restaurant\\'s front-of-house operations.\\n\\nThe Belchers have three children: Tina (voiced by Dan Mintz), a socially awkward teenager; Gene (voiced by Eugene Mirman), the middle child who is often depicted as awkward and insecure; and Louise (voiced by Kristen Schaal), the youngest and most mischievous of the siblings. Each character has their own unique personality, quirks, and storylines throughout the series.\\n\\nThroughout its run, \"Bob\\'s Burgers\" has developed a cult following for its offbeat humor, relatable characters, and quirky storytelling. The show has received critical acclaim and has been praised for its satire of small-town life, family dynamics, and social issues.\\n\\nThe show also features a cast of recurring and guest characters, including Jimmy Pesto (voiced by Patton Oswalt), the owner of a rival burger joint; Teddy (voiced by Larry Murphy), Bob\\'s friend and frequent customer; and Hugo Habercore (voiced by Andy Kindler), the eccentric health inspector who often clashes with Bob.\\n\\nOverall, \"Bob\\'s Burgers\" is a heartwarming and hilarious animated series that explores the ups and downs of family life, entrepreneurship, and small-town politics.'}, 'done_reason': 'stop', 'done': True, 'total_duration': 43406974963, 'load_duration': 32396441, 'prompt_eval_count': 31, 'prompt_eval_duration': 119000000, 'eval_count': 378, 'eval_duration': 43254000000}\n"
     ]
    }
   ],
   "source": [
    "import ollama\n",
    "\n",
    "response = ollama.chat(\n",
    "    model='llama3.2:3b-instruct-fp16',\n",
    "    messages=[{\n",
    "        'role': 'user',\n",
    "        'content': \"What is Bob's burger?\",\n",
    "    }]\n",
    ")\n",
    "\n",
    "print(response)"
   ]
  },
  {
   "cell_type": "markdown",
   "metadata": {},
   "source": [
    "# Test vision model"
   ]
  },
  {
   "cell_type": "code",
   "execution_count": 8,
   "metadata": {},
   "outputs": [
    {
     "name": "stdout",
     "output_type": "stream",
     "text": [
      "{'model': 'llama3.2-vision', 'created_at': '2024-11-09T08:12:24.46678546Z', 'message': {'role': 'assistant', 'content': 'The image depicts a correlation map of the executive control network. The network consists of two brain regions that are highlighted with different colors to show their correlation as they process information.\\n\\n**Network 1**: This region is responsible for processing auditory and language-related tasks, including the ability to understand spoken words and sentences. It also plays a role in the management of working memory, which is essential for tasks like reading comprehension or problem-solving.\\n \\n**Network 2**: This network deals with higher-level cognitive processes such as decision-making, planning, and task-switching. These functions are crucial for everyday activities like navigating through traffic or juggling multiple tasks at once.\\n\\nBoth networks work together to enable the smooth functioning of our brains when performing complex mental operations.'}, 'done_reason': 'stop', 'done': True, 'total_duration': 229336081840, 'load_duration': 28177412, 'prompt_eval_count': 18, 'prompt_eval_duration': 194150000000, 'eval_count': 149, 'eval_duration': 34897000000}\n"
     ]
    }
   ],
   "source": [
    "import ollama\n",
    "\n",
    "response = ollama.chat(\n",
    "    model='llama3.2-vision',\n",
    "    messages=[{\n",
    "        'role': 'user',\n",
    "        'content': 'What is in this image?',\n",
    "        'images': ['Screenshot From 2024-11-09 00-07-43.png']\n",
    "    }]\n",
    ")\n",
    "\n",
    "print(response)"
   ]
  },
  {
   "cell_type": "markdown",
   "metadata": {},
   "source": [
    "# prompt engineering"
   ]
  },
  {
   "cell_type": "code",
   "execution_count": 4,
   "metadata": {},
   "outputs": [
    {
     "name": "stdout",
     "output_type": "stream",
     "text": [
      "\u001b[36m> Response: That's Llama\u001b[0m\n"
     ]
    }
   ],
   "source": [
    "from llama_stack_client import LlamaStackClient\n",
    "from llama_stack_client.types import CompletionMessage, UserMessage\n",
    "from termcolor import cprint\n",
    "\n",
    "HOST = \"localhost\"  # Replace with your host\n",
    "PORT = 5000       # Replace with your port\n",
    "client = LlamaStackClient(base_url=f'http://{HOST}:{PORT}')\n",
    "\n",
    "response = client.inference.chat_completion(\n",
    "    messages=[\n",
    "    {\"role\": \"user\", \"content\": 'Have shorter, spear-shaped ears.'},\n",
    "    {\n",
    "        \"role\": \"assistant\",\n",
    "        \"content\": \"That's Alpaca!\",\n",
    "        \"stop_reason\": 'end_of_message',\n",
    "        \"tool_calls\": []\n",
    "    },\n",
    "    {\n",
    "        \"role\": \"user\",\n",
    "        \"content\": 'Known for their calm nature and used as pack animals in mountainous regions.'\n",
    "    },\n",
    "    {\n",
    "        \"role\": \"assistant\",\n",
    "        \"content\": \"That's Llama!\",\n",
    "        \"stop_reason\": 'end_of_message',\n",
    "        \"tool_calls\": []\n",
    "    },\n",
    "    {\n",
    "        \"role\": \"user\",\n",
    "        \"content\": 'Has a straight, slender neck and is smaller in size compared to its relative.'\n",
    "    },\n",
    "    {\n",
    "        \"role\": \"assistant\",\n",
    "        \"content\": \"That's Alpaca!\",\n",
    "        \"stop_reason\": 'end_of_message',\n",
    "        \"tool_calls\": []\n",
    "    },\n",
    "    {\n",
    "        \"role\": \"user\",\n",
    "        \"content\": 'Generally taller and more robust, commonly seen as guard animals.'\n",
    "    }\n",
    "],\n",
    "    model='Llama3.2-3B-Instruct',\n",
    ")\n",
    "\n",
    "cprint(f'> Response: {response.completion_message.content}', 'cyan')"
   ]
  }
 ],
 "metadata": {
  "kernelspec": {
   "display_name": "Talkie-VZAAEjW2",
   "language": "python",
   "name": "python3"
  },
  "language_info": {
   "codemirror_mode": {
    "name": "ipython",
    "version": 3
   },
   "file_extension": ".py",
   "mimetype": "text/x-python",
   "name": "python",
   "nbconvert_exporter": "python",
   "pygments_lexer": "ipython3",
   "version": "3.12.7"
  }
 },
 "nbformat": 4,
 "nbformat_minor": 2
}
